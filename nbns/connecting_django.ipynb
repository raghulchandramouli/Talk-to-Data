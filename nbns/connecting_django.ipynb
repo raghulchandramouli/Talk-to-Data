{
 "cells": [
  {
   "cell_type": "code",
   "execution_count": 1,
   "id": "2c4cfa67",
   "metadata": {},
   "outputs": [],
   "source": [
    "import setup\n",
    "setup.init_django()"
   ]
  },
  {
   "cell_type": "code",
   "execution_count": 3,
   "id": "c4cd39e9",
   "metadata": {},
   "outputs": [
    {
     "ename": "ModuleNotFoundError",
     "evalue": "No module named 'blog'",
     "output_type": "error",
     "traceback": [
      "\u001b[1;31m---------------------------------------------------------------------------\u001b[0m",
      "\u001b[1;31mModuleNotFoundError\u001b[0m                       Traceback (most recent call last)",
      "Cell \u001b[1;32mIn[3], line 1\u001b[0m\n\u001b[1;32m----> 1\u001b[0m \u001b[38;5;28;01mfrom\u001b[39;00m\u001b[38;5;250m \u001b[39m\u001b[38;5;21;01mblog\u001b[39;00m\u001b[38;5;21;01m.\u001b[39;00m\u001b[38;5;21;01mmodels\u001b[39;00m\u001b[38;5;250m \u001b[39m\u001b[38;5;28;01mimport\u001b[39;00m BlogPost, EMBEDDING_MODEL\n\u001b[0;32m      2\u001b[0m \u001b[38;5;28;01mfrom\u001b[39;00m\u001b[38;5;250m \u001b[39m\u001b[38;5;21;01mdecouple\u001b[39;00m\u001b[38;5;250m \u001b[39m\u001b[38;5;28;01mimport\u001b[39;00m config\n\u001b[0;32m      3\u001b[0m \u001b[38;5;28;01mimport\u001b[39;00m\u001b[38;5;250m \u001b[39m\u001b[38;5;21;01mgoogle\u001b[39;00m\u001b[38;5;21;01m.\u001b[39;00m\u001b[38;5;21;01mgenerativeai\u001b[39;00m\u001b[38;5;250m \u001b[39m\u001b[38;5;28;01mas\u001b[39;00m\u001b[38;5;250m \u001b[39m\u001b[38;5;21;01mgenai\u001b[39;00m\n",
      "\u001b[1;31mModuleNotFoundError\u001b[0m: No module named 'blog'"
     ]
    }
   ],
   "source": [
    "from blog.models import BlogPost, EMBEDDING_MODEL\n",
    "from decouple import config\n",
    "import google.generativeai as genai"
   ]
  },
  {
   "cell_type": "code",
   "execution_count": 3,
   "id": "d5a97ea2",
   "metadata": {},
   "outputs": [],
   "source": [
    "docs = [\n",
    "    \"The dog jumped over the cat\",\n",
    "    \"The cat jumped over the dog\",\n",
    "    \"It is very warm today\",\n",
    "    \"The cat is yellow and the dog is red\",\n",
    "]"
   ]
  },
  {
   "cell_type": "code",
   "execution_count": 4,
   "id": "4411986b",
   "metadata": {},
   "outputs": [],
   "source": [
    "RECREATE_DATA = True"
   ]
  },
  {
   "cell_type": "code",
   "execution_count": 5,
   "id": "6a48b733",
   "metadata": {},
   "outputs": [],
   "source": [
    "new_data = []\n",
    "for i ,x in enumerate(docs):\n",
    "    new_data.append(\n",
    "        BlogPost(title=f\"Blog Post {i + 1}\", content=x, can_delete = True)\n",
    "    )\n",
    "    \n",
    "if RECREATE_DATA:\n",
    "    qs = BlogPost.objects.filter(can_delete=True)\n",
    "    qs.delete()\n",
    "    BlogPost.objects.bulk_create(new_data)"
   ]
  },
  {
   "cell_type": "code",
   "execution_count": 6,
   "id": "54296fcc",
   "metadata": {},
   "outputs": [
    {
     "data": {
      "text/plain": [
       "4"
      ]
     },
     "execution_count": 6,
     "metadata": {},
     "output_type": "execute_result"
    }
   ],
   "source": [
    "qs = BlogPost.objects.filter(can_delete=True)\n",
    "qs.count()"
   ]
  },
  {
   "cell_type": "code",
   "execution_count": 6,
   "id": "1af00543",
   "metadata": {},
   "outputs": [],
   "source": [
    "genai.configure(\n",
    "    api_key=config(\"GEMINI_API_KEY\")\n",
    ")"
   ]
  },
  {
   "cell_type": "code",
   "execution_count": 7,
   "id": "529973b4",
   "metadata": {},
   "outputs": [],
   "source": [
    "embedding_model = genai.GenerativeModel(\"embedding-001\")"
   ]
  },
  {
   "cell_type": "code",
   "execution_count": 8,
   "id": "86545677",
   "metadata": {},
   "outputs": [],
   "source": [
    "def get_embedding(text, model=\"models/embedding-001\"):\n",
    "    text = text.replace(\"\\n\", \" \").strip()\n",
    "    response = genai.embed_content(\n",
    "        model=model,\n",
    "        content=text,\n",
    "        task_type=\"retrieval_document\"\n",
    "    )\n",
    "    return response['embedding']"
   ]
  },
  {
   "cell_type": "code",
   "execution_count": 9,
   "id": "c2a86c4a",
   "metadata": {},
   "outputs": [
    {
     "data": {
      "text/plain": [
       "'embedding-001'"
      ]
     },
     "execution_count": 9,
     "metadata": {},
     "output_type": "execute_result"
    }
   ],
   "source": [
    "EMBEDDING_MODEL"
   ]
  },
  {
   "cell_type": "code",
   "execution_count": 11,
   "id": "0b67a74f",
   "metadata": {},
   "outputs": [],
   "source": [
    "query = \"The dog jumped over the green cow\"\n",
    "query_embedding = get_embedding(query)"
   ]
  },
  {
   "cell_type": "markdown",
   "id": "f9ce9364",
   "metadata": {},
   "source": [
    "### Using similarity distance to annotate blogPost"
   ]
  },
  {
   "cell_type": "code",
   "execution_count": 12,
   "id": "6163d693",
   "metadata": {},
   "outputs": [],
   "source": [
    "from pgvector.django import CosineDistance\n",
    "from django.db.models import F"
   ]
  },
  {
   "cell_type": "code",
   "execution_count": 14,
   "id": "b013b1e3",
   "metadata": {},
   "outputs": [],
   "source": [
    "for obj in qs:\n",
    "    if obj.embedding is None:\n",
    "        obj.embedding = get_embedding(obj.get_embedding_text_raw())\n",
    "        obj.save()\n",
    "        \n",
    "qs = BlogPost.objects.filter(can_delete=True)"
   ]
  },
  {
   "cell_type": "code",
   "execution_count": 18,
   "id": "e551a754",
   "metadata": {},
   "outputs": [
    {
     "name": "stdout",
     "output_type": "stream",
     "text": [
      "Blog Post 4 0.20695340840619914 20.695340840619913\n",
      "Blog Post 4 0.20695340840619914 20.695340840619913\n",
      "Blog Post 3 0.20682441260568352 20.682441260568353\n",
      "Blog Post 3 0.20682441260568352 20.682441260568353\n"
     ]
    }
   ],
   "source": [
    "qs = BlogPost.objects.annotate(\n",
    "    distance   = CosineDistance('embedding', query_embedding),\n",
    "    similarity = F(\"distance\")                             \n",
    ").order_by(\"-distance\")[:4]\n",
    "\n",
    "for obj in qs:\n",
    "    print(obj.title, obj.distance, obj.similarity * 100)"
   ]
  },
  {
   "cell_type": "markdown",
   "id": "1848fd96",
   "metadata": {},
   "source": [
    "### Connecting to a Pooled DB"
   ]
  },
  {
   "cell_type": "code",
   "execution_count": 6,
   "id": "8567ab8a",
   "metadata": {},
   "outputs": [],
   "source": [
    "from decouple import config"
   ]
  },
  {
   "cell_type": "code",
   "execution_count": null,
   "id": "9cc17fa3",
   "metadata": {},
   "outputs": [],
   "source": []
  },
  {
   "cell_type": "code",
   "execution_count": null,
   "id": "bde0673d",
   "metadata": {},
   "outputs": [],
   "source": []
  },
  {
   "cell_type": "code",
   "execution_count": null,
   "id": "cff87ecc",
   "metadata": {},
   "outputs": [],
   "source": []
  }
 ],
 "metadata": {
  "kernelspec": {
   "display_name": "talk-to-data",
   "language": "python",
   "name": "python3"
  },
  "language_info": {
   "codemirror_mode": {
    "name": "ipython",
    "version": 3
   },
   "file_extension": ".py",
   "mimetype": "text/x-python",
   "name": "python",
   "nbconvert_exporter": "python",
   "pygments_lexer": "ipython3",
   "version": "3.11.13"
  }
 },
 "nbformat": 4,
 "nbformat_minor": 5
}
