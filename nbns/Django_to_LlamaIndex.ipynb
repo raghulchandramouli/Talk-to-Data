{
 "cells": [
  {
   "cell_type": "code",
   "execution_count": 13,
   "id": "a8cdfcee",
   "metadata": {},
   "outputs": [],
   "source": [
    "from llama_index.llms.gemini import Gemini"
   ]
  },
  {
   "cell_type": "code",
   "execution_count": 1,
   "id": "41fcbea6",
   "metadata": {},
   "outputs": [],
   "source": [
    "import setup\n",
    "setup.init_django()"
   ]
  },
  {
   "cell_type": "code",
   "execution_count": 10,
   "id": "d4562987",
   "metadata": {},
   "outputs": [],
   "source": [
    "from decouple import config\n",
    "from blog.models import BlogPost, EMBEDDING_LENGTH\n",
    "from blog import services\n",
    "import google.generativeai as genai\n"
   ]
  },
  {
   "cell_type": "code",
   "execution_count": 3,
   "id": "5fa9da3a",
   "metadata": {},
   "outputs": [],
   "source": [
    "qs = BlogPost.objects.filter(can_delete=True)"
   ]
  },
  {
   "cell_type": "code",
   "execution_count": null,
   "id": "113d74a7",
   "metadata": {},
   "outputs": [],
   "source": [
    "LLM_MODEL = config('LLM_MODEL', default='gemini-1.5-flash')\n",
    "EMBEDDING_LENGTH = config(\"EMBEDDING_LENGTH\", default=768, cast=int)\n",
    "EMBEDDING_MODEL = config(\"EMBEDDING_MODEL\", default='embedding-001')\n",
    "GEMINI_API_KEY = config(\"GEMINI_API_KEY\")\n"
   ]
  },
  {
   "cell_type": "code",
   "execution_count": 15,
   "id": "09762e8c",
   "metadata": {},
   "outputs": [
    {
     "name": "stderr",
     "output_type": "stream",
     "text": [
      "C:\\Users\\raghu\\AppData\\Local\\Temp\\ipykernel_10068\\2678343577.py:1: DeprecationWarning: Call to deprecated class Gemini. (Should use `llama-index-llms-google-genai` instead, using Google's latest unified SDK. See: https://docs.llamaindex.ai/en/stable/examples/llm/google_genai/)\n",
      "  llm = Gemini(\n"
     ]
    }
   ],
   "source": [
    "llm = Gemini(\n",
    "    model = LLM_MODEL,\n",
    "    api_key = GEMINI_API_KEY\n",
    ")"
   ]
  }
 ],
 "metadata": {
  "kernelspec": {
   "display_name": "talk-to-data",
   "language": "python",
   "name": "python3"
  },
  "language_info": {
   "codemirror_mode": {
    "name": "ipython",
    "version": 3
   },
   "file_extension": ".py",
   "mimetype": "text/x-python",
   "name": "python",
   "nbconvert_exporter": "python",
   "pygments_lexer": "ipython3",
   "version": "3.11.13"
  }
 },
 "nbformat": 4,
 "nbformat_minor": 5
}
