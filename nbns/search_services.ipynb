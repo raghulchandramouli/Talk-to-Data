{
 "cells": [
  {
   "cell_type": "code",
   "execution_count": 1,
   "id": "70ccc75a",
   "metadata": {},
   "outputs": [],
   "source": [
    "import setup\n",
    "setup.init_django()\n",
    "from blog.services import search_posts"
   ]
  },
  {
   "cell_type": "code",
   "execution_count": 2,
   "id": "060218c1",
   "metadata": {},
   "outputs": [],
   "source": [
    "results = search_posts(\"this is amazing\")"
   ]
  },
  {
   "cell_type": "code",
   "execution_count": 3,
   "id": "0efb05b8",
   "metadata": {},
   "outputs": [
    {
     "data": {
      "text/plain": [
       "np.float64(0.8599919430834229)"
      ]
     },
     "execution_count": 3,
     "metadata": {},
     "output_type": "execute_result"
    }
   ],
   "source": [
    "results.first().similarity"
   ]
  },
  {
   "cell_type": "code",
   "execution_count": null,
   "id": "0e666cef",
   "metadata": {},
   "outputs": [],
   "source": []
  }
 ],
 "metadata": {
  "kernelspec": {
   "display_name": "talk-to-data",
   "language": "python",
   "name": "python3"
  },
  "language_info": {
   "codemirror_mode": {
    "name": "ipython",
    "version": 3
   },
   "file_extension": ".py",
   "mimetype": "text/x-python",
   "name": "python",
   "nbconvert_exporter": "python",
   "pygments_lexer": "ipython3",
   "version": "3.11.13"
  }
 },
 "nbformat": 4,
 "nbformat_minor": 5
}
