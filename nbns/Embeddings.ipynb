{
 "cells": [
  {
   "cell_type": "code",
   "execution_count": 9,
   "id": "4e05e35d",
   "metadata": {},
   "outputs": [],
   "source": [
    "import numpy as np\n",
    "from sentence_transformers import SentenceTransformer"
   ]
  },
  {
   "cell_type": "code",
   "execution_count": 10,
   "id": "6cb81fb3",
   "metadata": {},
   "outputs": [],
   "source": [
    "model = SentenceTransformer(\"all-MiniLM-L6-v2\")"
   ]
  },
  {
   "cell_type": "code",
   "execution_count": 11,
   "id": "95ff2fbf",
   "metadata": {},
   "outputs": [],
   "source": [
    "docs = {\n",
    "    \"The dog jumped over the cat\",\n",
    "    \"The cat jumped over the dog\",\n",
    "    \"It is very warm today\",\n",
    "    \"The cat is yellow and the dog is red\",\n",
    "}"
   ]
  },
  {
   "cell_type": "code",
   "execution_count": 12,
   "id": "77d69557",
   "metadata": {},
   "outputs": [
    {
     "data": {
      "text/plain": [
       "[{'index': 0, 'Data': 'The cat is yellow and the dog is red'},\n",
       " {'index': 1, 'Data': 'The dog jumped over the cat'},\n",
       " {'index': 2, 'Data': 'The cat jumped over the dog'},\n",
       " {'index': 3, 'Data': 'It is very warm today'}]"
      ]
     },
     "execution_count": 12,
     "metadata": {},
     "output_type": "execute_result"
    }
   ],
   "source": [
    "documents = []\n",
    "for i, x in enumerate(docs):\n",
    "    #print(i, x)\n",
    "    row = {\n",
    "        \"index\" : i,\n",
    "        \"Data\"  : x\n",
    "    }\n",
    "    documents.append(row)\n",
    "    \n",
    "documents"
   ]
  },
  {
   "cell_type": "code",
   "execution_count": 13,
   "id": "ef739833",
   "metadata": {},
   "outputs": [],
   "source": [
    "dataset = [\n",
    "    {'id' : 1, 'text':'The dog jumped over the cat'},\n",
    "    {'id' : 2, 'text':'The cat jumped over the dog'},\n",
    "    {'id' : 3, 'text':'It is very warm today'},\n",
    "    {'id' : 4, 'text':'The cat is yellow and the dog is red'}\n",
    "]"
   ]
  },
  {
   "cell_type": "code",
   "execution_count": null,
   "id": "5f63313f",
   "metadata": {},
   "outputs": [],
   "source": [
    "document_embeddings = []\n",
    "for x in dataset:\n",
    "    embed = model.encode(x.get('text'))\n",
    "    final_data = (x.get('id'), embed)\n",
    "    document_embeddings.append(embed)\n",
    "    \n",
    "document_embeddings[0][1]"
   ]
  },
  {
   "cell_type": "code",
   "execution_count": 28,
   "id": "1d1a4dcc",
   "metadata": {},
   "outputs": [],
   "source": [
    "query = \"The cat is yellow and the dog is purple\"\n",
    "query_embedding = model.encode([query])"
   ]
  },
  {
   "cell_type": "code",
   "execution_count": null,
   "id": "6ed2615f",
   "metadata": {},
   "outputs": [],
   "source": [
    "results = []\n",
    "\n",
    "for doc in document_embeddings:\n",
    "    doc_id = doc[0]\n",
    "    doc_embedding = doc[1]\n",
    "    rank = model.similarity(doc_embedding, query_embedding)\n",
    "    results.append(\n",
    "        (doc_id, rank)\n",
    "    )\n",
    "    \n",
    "results"
   ]
  },
  {
   "cell_type": "code",
   "execution_count": null,
   "id": "1f27a9e0",
   "metadata": {},
   "outputs": [],
   "source": []
  }
 ],
 "metadata": {
  "kernelspec": {
   "display_name": "talk-to-data",
   "language": "python",
   "name": "python3"
  },
  "language_info": {
   "codemirror_mode": {
    "name": "ipython",
    "version": 3
   },
   "file_extension": ".py",
   "mimetype": "text/x-python",
   "name": "python",
   "nbconvert_exporter": "python",
   "pygments_lexer": "ipython3",
   "version": "3.11.13"
  }
 },
 "nbformat": 4,
 "nbformat_minor": 5
}
